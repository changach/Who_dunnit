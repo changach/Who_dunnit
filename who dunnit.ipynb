{
 "cells": [
  {
   "cell_type": "code",
   "execution_count": 15,
   "id": "9c527e2a",
   "metadata": {},
   "outputs": [],
   "source": [
    "#import libraries\n",
    "import pandas as pd\n",
    "from matplotlib import pyplot as plt"
   ]
  },
  {
   "cell_type": "code",
   "execution_count": 16,
   "id": "59a58d4f",
   "metadata": {},
   "outputs": [],
   "source": [
    "# create a dataset for number plates \n",
    "\n",
    "\n",
    "number_plates= [['Forest w.','KBA998V','red'],\n",
    "                ['Patrick','KBB074V','silver'],\n",
    "                ['Jason B.','KBC978V','green'],\n",
    "                ['Anita Coral','KBA999V','red'],\n",
    "                ['Orion Mwendwa','KCB890N','blue'],\n",
    "                ['Jennifer.L','KDD456Y','black'],\n",
    "                ['Racheal','KBD564R','silver'],\n",
    "                ['Ross','KAY900B','orange'],\n",
    "                ['Cameron','KCT345Y','yellow'],\n",
    "                ['Baraka','KBA988H','red']]"
   ]
  },
  {
   "cell_type": "code",
   "execution_count": 17,
   "id": "78beff98",
   "metadata": {},
   "outputs": [],
   "source": [
    "#display list of cars(number plate and color) and their owners\n",
    "\n",
    "display_plates=pd.DataFrame(number_plates,columns=['Name','Plate_no','color'])"
   ]
  },
  {
   "cell_type": "code",
   "execution_count": 18,
   "id": "4a36f45d",
   "metadata": {},
   "outputs": [
    {
     "name": "stdout",
     "output_type": "stream",
     "text": [
      "            Name Plate_no   color\n",
      "0      Forest w.  KBA998V     red\n",
      "1        Patrick  KBB074V  silver\n",
      "2       Jason B.  KBC978V   green\n",
      "3    Anita Coral  KBA999V     red\n",
      "4  Orion Mwendwa  KCB890N    blue\n",
      "5     Jennifer.L  KDD456Y   black\n",
      "6        Racheal  KBD564R  silver\n",
      "7           Ross  KAY900B  orange\n",
      "8        Cameron  KCT345Y  yellow\n",
      "9         Baraka  KBA988H     red\n"
     ]
    }
   ],
   "source": [
    "print(display_plates)"
   ]
  },
  {
   "cell_type": "code",
   "execution_count": 19,
   "id": "fc7ae21c",
   "metadata": {},
   "outputs": [],
   "source": [
    "#credit card statements from the bank for suspects from the past 2 days\n",
    "\n",
    "credit_cards =[['Forest w.','PetGo Petshop'],\n",
    "               ['Patrick','HoneyandI Restaurant'],\n",
    "               ['Jason B.','Yay Bar and Grill'],\n",
    "               ['Anita Coral','PetGo Petshop'],\n",
    "               ['Orion Mwendwa','HigherOn School'],\n",
    "               ['Jennifer.L','Out n About Clothes Store'],\n",
    "               ['Racheal','Better Health Chemist'],\n",
    "               ['Ross','Fuel n Go Construction'],\n",
    "               ['Cameron','Kabisa Mall'],\n",
    "               ['Baraka','SportsPesa']]"
   ]
  },
  {
   "cell_type": "code",
   "execution_count": 20,
   "id": "17c23413",
   "metadata": {},
   "outputs": [],
   "source": [
    "#display list of names and credit card usage\n",
    "\n",
    "display_cards=pd.DataFrame(credit_cards,columns=['Name','Activity'])"
   ]
  },
  {
   "cell_type": "code",
   "execution_count": 31,
   "id": "76ce59ae",
   "metadata": {},
   "outputs": [
    {
     "name": "stdout",
     "output_type": "stream",
     "text": [
      "            Name                   Activity\n",
      "0      Forest w.              PetGo Petshop\n",
      "1        Patrick       HoneyandI Restaurant\n",
      "2       Jason B.          Yay Bar and Grill\n",
      "3    Anita Coral              PetGo Petshop\n",
      "4  Orion Mwendwa            HigherOn School\n",
      "5     Jennifer.L  Out n About Clothes Store\n",
      "6        Racheal      Better Health Chemist\n",
      "7           Ross     Fuel n Go Construction\n",
      "8        Cameron                Kabisa Mall\n",
      "9         Baraka                 SportsPesa\n"
     ]
    }
   ],
   "source": [
    "print(display_cards)"
   ]
  },
  {
   "cell_type": "code",
   "execution_count": 40,
   "id": "6086f5ee",
   "metadata": {},
   "outputs": [],
   "source": []
  },
  {
   "cell_type": "code",
   "execution_count": 59,
   "id": "6d94e5f3",
   "metadata": {},
   "outputs": [],
   "source": [
    "# display the names and their writing of certain letters\n",
    "\n",
    "display_ransom = pd.DataFrame({'letter':['a','b','c','d','e','f','g','h','i','j','k'],\n",
    "                                'frequency':[12,13,23,12,12,34,17,9,13,12,19]})\n",
    "display_sus1 = pd.DataFrame({'letter':['a','b','c','d','e','f','g','h','i','j','k'],\n",
    "                            'frequency':[12,17,33,2,10,44,17,19,14,10,22]})\n",
    "display_sus2 = pd.DataFrame({'letter':['a','b','c','d','e','f','g','h','i','j','k'],\n",
    "                            'frequency':[12,12,20,11,10,37,16,8,14,12,20]})"
   ]
  },
  {
   "cell_type": "code",
   "execution_count": 60,
   "id": "f6a4cd86",
   "metadata": {},
   "outputs": [
    {
     "name": "stdout",
     "output_type": "stream",
     "text": [
      "   letter  frequency\n",
      "0       a         12\n",
      "1       b         13\n",
      "2       c         23\n",
      "3       d         12\n",
      "4       e         12\n",
      "5       f         34\n",
      "6       g         17\n",
      "7       h          9\n",
      "8       i         13\n",
      "9       j         12\n",
      "10      k         19\n",
      "   letter  frequency\n",
      "0       a         12\n",
      "1       b         17\n",
      "2       c         33\n",
      "3       d          2\n",
      "4       e         10\n",
      "5       f         44\n",
      "6       g         17\n",
      "7       h         19\n",
      "8       i         14\n",
      "9       j         10\n",
      "10      k         22\n",
      "   letter  frequency\n",
      "0       a         12\n",
      "1       b         12\n",
      "2       c         20\n",
      "3       d         11\n",
      "4       e         10\n",
      "5       f         37\n",
      "6       g         16\n",
      "7       h          8\n",
      "8       i         14\n",
      "9       j         12\n",
      "10      k         20\n"
     ]
    }
   ],
   "source": [
    "#display the letters\n",
    "print(display_ransom)\n",
    "print(display_sus1)\n",
    "print(display_sus2)"
   ]
  },
  {
   "cell_type": "code",
   "execution_count": 61,
   "id": "b8209df9",
   "metadata": {},
   "outputs": [
    {
     "name": "stdout",
     "output_type": "stream",
     "text": [
      "          Name Plate_no color\n",
      "0    Forest w.  KBA998V   red\n",
      "3  Anita Coral  KBA999V   red\n",
      "9       Baraka  KBA988H   red\n"
     ]
    }
   ],
   "source": [
    "#A witness to the kidnapping saw a partial plate of KBA**** and the color was red.\n",
    "#We are going to find cars with similar properties to narrow down the suspect list\n",
    "\n",
    "suspect_car =display_plates[display_plates.color == 'red']\n",
    "print(suspect_car)"
   ]
  },
  {
   "cell_type": "code",
   "execution_count": 62,
   "id": "b39a99fb",
   "metadata": {},
   "outputs": [
    {
     "name": "stdout",
     "output_type": "stream",
     "text": [
      "          Name       Activity\n",
      "0    Forest w.  PetGo Petshop\n",
      "3  Anita Coral  PetGo Petshop\n"
     ]
    }
   ],
   "source": [
    "#To narrow down the list from the three,we would now go to their credit card purchases for any of them who bought pet supplies\n",
    "suspect_card = display_cards[display_cards.Activity == 'PetGo Petshop']\n",
    "print(suspect_card)"
   ]
  },
  {
   "cell_type": "code",
   "execution_count": 64,
   "id": "5e0d1893",
   "metadata": {},
   "outputs": [
    {
     "data": {
      "image/png": "[encoded data removed]",
      "text/plain": [
       "<Figure size 432x288 with 1 Axes>"
      ]
     },
     "metadata": {
      "needs_background": "light"
     },
     "output_type": "display_data"
    }
   ],
   "source": [
    "#To differentiate Between these two suspects,we will analyze their writing with the ransom letter.\n",
    "#plot for the ransom letter\n",
    "plt.plot(display_ransom.letter,display_ransom.frequency,\n",
    "        label='ransom letter',\n",
    "        linestyle=':')\n",
    "\n",
    "#plot for suspect Forest w.\n",
    "plt.plot(display_sus1.letter,display_sus1.frequency,\n",
    "        label='Forest w.')\n",
    "\n",
    "#plot for suspect Anita Coral\n",
    "plt.plot(display_sus2.letter,display_sus2.frequency,\n",
    "        label='Anita Coral')\n",
    "\n",
    "# Add x- and y-labels\n",
    "plt.xlabel(\"Letter\")\n",
    "plt.ylabel(\"Frequency\")\n",
    "\n",
    "# Add a legend\n",
    "plt.legend()\n",
    "\n",
    "# Display plot\n",
    "plt.show()\n",
    "\n",
    "\n"
   ]
  },
  {
   "cell_type": "code",
   "execution_count": null,
   "id": "eccc9df5",
   "metadata": {},
   "outputs": [],
   "source": [
    "#seems our thief is Anita Coral"
   ]
  },
  {
   "cell_type": "code",
   "execution_count": null,
   "id": "97df07dd",
   "metadata": {},
   "outputs": [],
   "source": []
  }
 ],
 "metadata": {
  "kernelspec": {
   "display_name": "Python 3",
   "language": "python",
   "name": "python3"
  },
  "language_info": {
   "codemirror_mode": {
    "name": "ipython",
    "version": 3
   },
   "file_extension": ".py",
   "mimetype": "text/x-python",
   "name": "python",
   "nbconvert_exporter": "python",
   "pygments_lexer": "ipython3",
   "version": "3.8.10"
  }
 },
 "nbformat": 4,
 "nbformat_minor": 5
}
